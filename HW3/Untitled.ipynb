{
 "cells": [
  {
   "cell_type": "code",
   "execution_count": 1,
   "metadata": {
    "collapsed": true
   },
   "outputs": [],
   "source": [
    "import json\n",
    "from numpy import genfromtxt\n",
    "\n",
    "data = genfromtxt('LoughranMcDonald_MasterDictionary_2014.csv', dtype=None, delimiter=',', names=True)\n",
    "d = {}\n",
    "for x in data:\n",
    "\tif x['Positive'] != 0 or x['Negative'] != 0:\n",
    "\t\td[x['Word']] = {'pos': 1 if x['Positive'] > 0 else 0, 'neg': 1 if x['Negative'] > 0 else 0}\n",
    "\n",
    "with open('lm.json', 'w') as ofile:\n",
    "\tjson.dump(d, ofile)\n"
   ]
  },
  {
   "cell_type": "code",
   "execution_count": 6,
   "metadata": {
    "collapsed": false
   },
   "outputs": [],
   "source": [
    "x=data[0]"
   ]
  },
  {
   "cell_type": "code",
   "execution_count": 11,
   "metadata": {
    "collapsed": false
   },
   "outputs": [],
   "source": [
    "x2 = (1,2,3)"
   ]
  },
  {
   "cell_type": "code",
   "execution_count": 15,
   "metadata": {
    "collapsed": false
   },
   "outputs": [],
   "source": [
    "import csv, json\n",
    "\n",
    "words = {'positive': [], 'negative': []}\n",
    "\n",
    "with open('training.csv', 'rU') as csvFile:\n",
    "\treader = csv.reader(csvFile) \n",
    "\treader.next()\n",
    "\tfor row in reader:\n",
    "\t\tif int(row[1]):\n",
    "\t\t\twords['positive'].append(unicode(row[2].strip(), errors='ignore'))\n",
    "\t\telse:\n",
    "\t\t\twords['negative'].append(unicode(row[2].strip(), errors='ignore'))\n"
   ]
  },
  {
   "cell_type": "code",
   "execution_count": 19,
   "metadata": {
    "collapsed": false
   },
   "outputs": [
    {
     "data": {
      "text/plain": [
       "'0'"
      ]
     },
     "execution_count": 19,
     "metadata": {},
     "output_type": "execute_result"
    }
   ],
   "source": [
    "row[1]"
   ]
  }
 ],
 "metadata": {
  "kernelspec": {
   "display_name": "Python 2",
   "language": "python",
   "name": "python2"
  },
  "language_info": {
   "codemirror_mode": {
    "name": "ipython",
    "version": 2
   },
   "file_extension": ".py",
   "mimetype": "text/x-python",
   "name": "python",
   "nbconvert_exporter": "python",
   "pygments_lexer": "ipython2",
   "version": "2.7.11"
  }
 },
 "nbformat": 4,
 "nbformat_minor": 0
}
